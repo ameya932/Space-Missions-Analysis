{
  "nbformat": 4,
  "nbformat_minor": 0,
  "metadata": {
    "colab": {
      "provenance": [],
      "authorship_tag": "ABX9TyO+ao5ST+3NX35hvaDcVlk9",
      "include_colab_link": true
    },
    "kernelspec": {
      "name": "python3",
      "display_name": "Python 3"
    },
    "language_info": {
      "name": "python"
    }
  },
  "cells": [
    {
      "cell_type": "markdown",
      "metadata": {
        "id": "view-in-github",
        "colab_type": "text"
      },
      "source": [
        "<a href=\"https://colab.research.google.com/github/ameya932/space_missions_analysis/blob/main/Human_Space_Missions_Analysis.ipynb\" target=\"_parent\"><img src=\"https://colab.research.google.com/assets/colab-badge.svg\" alt=\"Open In Colab\"/></a>"
      ]
    },
    {
      "cell_type": "code",
      "execution_count": 2,
      "metadata": {
        "id": "0NJ64H3FTrGN",
        "colab": {
          "base_uri": "https://localhost:8080/"
        },
        "outputId": "7708baf5-7a3a-47fe-b087-60549fa7d27c"
      },
      "outputs": [
        {
          "output_type": "stream",
          "name": "stdout",
          "text": [
            "Mounted at /content/drive\n"
          ]
        }
      ],
      "source": [
        "from google.colab import drive\n",
        "drive.mount('/content/drive')"
      ]
    },
    {
      "cell_type": "code",
      "source": [
        "import numpy as np\n",
        "import pandas as pd"
      ],
      "metadata": {
        "id": "LLpFOMiLlRIC"
      },
      "execution_count": 3,
      "outputs": []
    },
    {
      "cell_type": "code",
      "source": [
        "path = \"/content/drive/MyDrive/Space_Corrected.csv\"\n",
        "df = pd.read_csv(path)"
      ],
      "metadata": {
        "id": "lERMlxUyl5w9"
      },
      "execution_count": 4,
      "outputs": []
    },
    {
      "cell_type": "code",
      "source": [
        "import matplotlib.pyplot as plt\n",
        "import seaborn as sns\n",
        "from matplotlib import pyplot\n",
        "from iso3166 import countries\n",
        "from datetime import datetime, timedelta\n",
        "import plotly.express as px\n",
        "import warnings\n",
        "warnings.filterwarnings(\"ignore\")\n",
        "sns.set_style(\"darkgrid\")"
      ],
      "metadata": {
        "id": "zvu09N4PmQhh"
      },
      "execution_count": 6,
      "outputs": []
    },
    {
      "cell_type": "code",
      "source": [
        "df.head()"
      ],
      "metadata": {
        "colab": {
          "base_uri": "https://localhost:8080/",
          "height": 354
        },
        "id": "7QmaJFrsnIry",
        "outputId": "73278dc6-e37c-4a08-e6d8-51af616b85db"
      },
      "execution_count": 7,
      "outputs": [
        {
          "output_type": "execute_result",
          "data": {
            "text/plain": [
              "   Unnamed: 0.1  Unnamed: 0 Company Name  \\\n",
              "0             0           0       SpaceX   \n",
              "1             1           1         CASC   \n",
              "2             2           2       SpaceX   \n",
              "3             3           3    Roscosmos   \n",
              "4             4           4          ULA   \n",
              "\n",
              "                                            Location  \\\n",
              "0         LC-39A, Kennedy Space Center, Florida, USA   \n",
              "1  Site 9401 (SLS-2), Jiuquan Satellite Launch Ce...   \n",
              "2                      Pad A, Boca Chica, Texas, USA   \n",
              "3       Site 200/39, Baikonur Cosmodrome, Kazakhstan   \n",
              "4           SLC-41, Cape Canaveral AFS, Florida, USA   \n",
              "\n",
              "                        Datum                                        Detail  \\\n",
              "0  Fri Aug 07, 2020 05:12 UTC  Falcon 9 Block 5 | Starlink V1 L9 & BlackSky   \n",
              "1  Thu Aug 06, 2020 04:01 UTC           Long March 2D | Gaofen-9 04 & Q-SAT   \n",
              "2  Tue Aug 04, 2020 23:57 UTC            Starship Prototype | 150 Meter Hop   \n",
              "3  Thu Jul 30, 2020 21:25 UTC  Proton-M/Briz-M | Ekspress-80 & Ekspress-103   \n",
              "4  Thu Jul 30, 2020 11:50 UTC                    Atlas V 541 | Perseverance   \n",
              "\n",
              "  Status Rocket  Rocket Status Mission  \n",
              "0  StatusActive   50.0         Success  \n",
              "1  StatusActive  29.75         Success  \n",
              "2  StatusActive     NaN        Success  \n",
              "3  StatusActive   65.0         Success  \n",
              "4  StatusActive  145.0         Success  "
            ],
            "text/html": [
              "\n",
              "  <div id=\"df-9ac5381b-c6e2-4b96-9399-a77ea6dc4b4b\">\n",
              "    <div class=\"colab-df-container\">\n",
              "      <div>\n",
              "<style scoped>\n",
              "    .dataframe tbody tr th:only-of-type {\n",
              "        vertical-align: middle;\n",
              "    }\n",
              "\n",
              "    .dataframe tbody tr th {\n",
              "        vertical-align: top;\n",
              "    }\n",
              "\n",
              "    .dataframe thead th {\n",
              "        text-align: right;\n",
              "    }\n",
              "</style>\n",
              "<table border=\"1\" class=\"dataframe\">\n",
              "  <thead>\n",
              "    <tr style=\"text-align: right;\">\n",
              "      <th></th>\n",
              "      <th>Unnamed: 0.1</th>\n",
              "      <th>Unnamed: 0</th>\n",
              "      <th>Company Name</th>\n",
              "      <th>Location</th>\n",
              "      <th>Datum</th>\n",
              "      <th>Detail</th>\n",
              "      <th>Status Rocket</th>\n",
              "      <th>Rocket</th>\n",
              "      <th>Status Mission</th>\n",
              "    </tr>\n",
              "  </thead>\n",
              "  <tbody>\n",
              "    <tr>\n",
              "      <th>0</th>\n",
              "      <td>0</td>\n",
              "      <td>0</td>\n",
              "      <td>SpaceX</td>\n",
              "      <td>LC-39A, Kennedy Space Center, Florida, USA</td>\n",
              "      <td>Fri Aug 07, 2020 05:12 UTC</td>\n",
              "      <td>Falcon 9 Block 5 | Starlink V1 L9 &amp; BlackSky</td>\n",
              "      <td>StatusActive</td>\n",
              "      <td>50.0</td>\n",
              "      <td>Success</td>\n",
              "    </tr>\n",
              "    <tr>\n",
              "      <th>1</th>\n",
              "      <td>1</td>\n",
              "      <td>1</td>\n",
              "      <td>CASC</td>\n",
              "      <td>Site 9401 (SLS-2), Jiuquan Satellite Launch Ce...</td>\n",
              "      <td>Thu Aug 06, 2020 04:01 UTC</td>\n",
              "      <td>Long March 2D | Gaofen-9 04 &amp; Q-SAT</td>\n",
              "      <td>StatusActive</td>\n",
              "      <td>29.75</td>\n",
              "      <td>Success</td>\n",
              "    </tr>\n",
              "    <tr>\n",
              "      <th>2</th>\n",
              "      <td>2</td>\n",
              "      <td>2</td>\n",
              "      <td>SpaceX</td>\n",
              "      <td>Pad A, Boca Chica, Texas, USA</td>\n",
              "      <td>Tue Aug 04, 2020 23:57 UTC</td>\n",
              "      <td>Starship Prototype | 150 Meter Hop</td>\n",
              "      <td>StatusActive</td>\n",
              "      <td>NaN</td>\n",
              "      <td>Success</td>\n",
              "    </tr>\n",
              "    <tr>\n",
              "      <th>3</th>\n",
              "      <td>3</td>\n",
              "      <td>3</td>\n",
              "      <td>Roscosmos</td>\n",
              "      <td>Site 200/39, Baikonur Cosmodrome, Kazakhstan</td>\n",
              "      <td>Thu Jul 30, 2020 21:25 UTC</td>\n",
              "      <td>Proton-M/Briz-M | Ekspress-80 &amp; Ekspress-103</td>\n",
              "      <td>StatusActive</td>\n",
              "      <td>65.0</td>\n",
              "      <td>Success</td>\n",
              "    </tr>\n",
              "    <tr>\n",
              "      <th>4</th>\n",
              "      <td>4</td>\n",
              "      <td>4</td>\n",
              "      <td>ULA</td>\n",
              "      <td>SLC-41, Cape Canaveral AFS, Florida, USA</td>\n",
              "      <td>Thu Jul 30, 2020 11:50 UTC</td>\n",
              "      <td>Atlas V 541 | Perseverance</td>\n",
              "      <td>StatusActive</td>\n",
              "      <td>145.0</td>\n",
              "      <td>Success</td>\n",
              "    </tr>\n",
              "  </tbody>\n",
              "</table>\n",
              "</div>\n",
              "      <button class=\"colab-df-convert\" onclick=\"convertToInteractive('df-9ac5381b-c6e2-4b96-9399-a77ea6dc4b4b')\"\n",
              "              title=\"Convert this dataframe to an interactive table.\"\n",
              "              style=\"display:none;\">\n",
              "        \n",
              "  <svg xmlns=\"http://www.w3.org/2000/svg\" height=\"24px\"viewBox=\"0 0 24 24\"\n",
              "       width=\"24px\">\n",
              "    <path d=\"M0 0h24v24H0V0z\" fill=\"none\"/>\n",
              "    <path d=\"M18.56 5.44l.94 2.06.94-2.06 2.06-.94-2.06-.94-.94-2.06-.94 2.06-2.06.94zm-11 1L8.5 8.5l.94-2.06 2.06-.94-2.06-.94L8.5 2.5l-.94 2.06-2.06.94zm10 10l.94 2.06.94-2.06 2.06-.94-2.06-.94-.94-2.06-.94 2.06-2.06.94z\"/><path d=\"M17.41 7.96l-1.37-1.37c-.4-.4-.92-.59-1.43-.59-.52 0-1.04.2-1.43.59L10.3 9.45l-7.72 7.72c-.78.78-.78 2.05 0 2.83L4 21.41c.39.39.9.59 1.41.59.51 0 1.02-.2 1.41-.59l7.78-7.78 2.81-2.81c.8-.78.8-2.07 0-2.86zM5.41 20L4 18.59l7.72-7.72 1.47 1.35L5.41 20z\"/>\n",
              "  </svg>\n",
              "      </button>\n",
              "      \n",
              "  <style>\n",
              "    .colab-df-container {\n",
              "      display:flex;\n",
              "      flex-wrap:wrap;\n",
              "      gap: 12px;\n",
              "    }\n",
              "\n",
              "    .colab-df-convert {\n",
              "      background-color: #E8F0FE;\n",
              "      border: none;\n",
              "      border-radius: 50%;\n",
              "      cursor: pointer;\n",
              "      display: none;\n",
              "      fill: #1967D2;\n",
              "      height: 32px;\n",
              "      padding: 0 0 0 0;\n",
              "      width: 32px;\n",
              "    }\n",
              "\n",
              "    .colab-df-convert:hover {\n",
              "      background-color: #E2EBFA;\n",
              "      box-shadow: 0px 1px 2px rgba(60, 64, 67, 0.3), 0px 1px 3px 1px rgba(60, 64, 67, 0.15);\n",
              "      fill: #174EA6;\n",
              "    }\n",
              "\n",
              "    [theme=dark] .colab-df-convert {\n",
              "      background-color: #3B4455;\n",
              "      fill: #D2E3FC;\n",
              "    }\n",
              "\n",
              "    [theme=dark] .colab-df-convert:hover {\n",
              "      background-color: #434B5C;\n",
              "      box-shadow: 0px 1px 3px 1px rgba(0, 0, 0, 0.15);\n",
              "      filter: drop-shadow(0px 1px 2px rgba(0, 0, 0, 0.3));\n",
              "      fill: #FFFFFF;\n",
              "    }\n",
              "  </style>\n",
              "\n",
              "      <script>\n",
              "        const buttonEl =\n",
              "          document.querySelector('#df-9ac5381b-c6e2-4b96-9399-a77ea6dc4b4b button.colab-df-convert');\n",
              "        buttonEl.style.display =\n",
              "          google.colab.kernel.accessAllowed ? 'block' : 'none';\n",
              "\n",
              "        async function convertToInteractive(key) {\n",
              "          const element = document.querySelector('#df-9ac5381b-c6e2-4b96-9399-a77ea6dc4b4b');\n",
              "          const dataTable =\n",
              "            await google.colab.kernel.invokeFunction('convertToInteractive',\n",
              "                                                     [key], {});\n",
              "          if (!dataTable) return;\n",
              "\n",
              "          const docLinkHtml = 'Like what you see? Visit the ' +\n",
              "            '<a target=\"_blank\" href=https://colab.research.google.com/notebooks/data_table.ipynb>data table notebook</a>'\n",
              "            + ' to learn more about interactive tables.';\n",
              "          element.innerHTML = '';\n",
              "          dataTable['output_type'] = 'display_data';\n",
              "          await google.colab.output.renderOutput(dataTable, element);\n",
              "          const docLink = document.createElement('div');\n",
              "          docLink.innerHTML = docLinkHtml;\n",
              "          element.appendChild(docLink);\n",
              "        }\n",
              "      </script>\n",
              "    </div>\n",
              "  </div>\n",
              "  "
            ]
          },
          "metadata": {},
          "execution_count": 7
        }
      ]
    },
    {
      "cell_type": "code",
      "source": [
        "df.info()"
      ],
      "metadata": {
        "colab": {
          "base_uri": "https://localhost:8080/"
        },
        "id": "O3nIREWZnMJh",
        "outputId": "5b41ef83-b777-4854-edd5-95248d236292"
      },
      "execution_count": 8,
      "outputs": [
        {
          "output_type": "stream",
          "name": "stdout",
          "text": [
            "<class 'pandas.core.frame.DataFrame'>\n",
            "RangeIndex: 4324 entries, 0 to 4323\n",
            "Data columns (total 9 columns):\n",
            " #   Column          Non-Null Count  Dtype \n",
            "---  ------          --------------  ----- \n",
            " 0   Unnamed: 0.1    4324 non-null   int64 \n",
            " 1   Unnamed: 0      4324 non-null   int64 \n",
            " 2   Company Name    4324 non-null   object\n",
            " 3   Location        4324 non-null   object\n",
            " 4   Datum           4324 non-null   object\n",
            " 5   Detail          4324 non-null   object\n",
            " 6   Status Rocket   4324 non-null   object\n",
            " 7    Rocket         964 non-null    object\n",
            " 8   Status Mission  4324 non-null   object\n",
            "dtypes: int64(2), object(7)\n",
            "memory usage: 304.2+ KB\n"
          ]
        }
      ]
    },
    {
      "cell_type": "markdown",
      "source": [
        "**DATA PROCESSING**"
      ],
      "metadata": {
        "id": "n1BksSyBnRml"
      }
    },
    {
      "cell_type": "code",
      "source": [
        "df['DateTime'] = pd.to_datetime(df['Datum'])\n",
        "#getting launch year\n",
        "df['Year'] = df['DateTime'].apply(lambda datetime: datetime.year)\n",
        "#getting country from where launch occured\n"
      ],
      "metadata": {
        "id": "snPaWRnYnOdn"
      },
      "execution_count": 10,
      "outputs": []
    },
    {
      "cell_type": "code",
      "source": [],
      "metadata": {
        "id": "8lJBpblDnd_P"
      },
      "execution_count": null,
      "outputs": []
    }
  ]
}